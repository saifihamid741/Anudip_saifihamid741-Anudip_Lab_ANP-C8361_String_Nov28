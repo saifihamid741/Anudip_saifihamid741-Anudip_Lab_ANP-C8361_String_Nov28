{
 "cells": [
  {
   "cell_type": "code",
   "execution_count": null,
   "id": "339d36d3",
   "metadata": {},
   "outputs": [],
   "source": [
    "1. Write a Python program to count the occurrences of each word in a given sentence.\n",
    "   string = “To change the overall look of your document. To change the look available in the gallery” "
   ]
  },
  {
   "cell_type": "code",
   "execution_count": 2,
   "id": "d6f94477",
   "metadata": {},
   "outputs": [
    {
     "name": "stdout",
     "output_type": "stream",
     "text": [
      "{'to': 2, 'change': 2, 'the': 3, 'overall': 1, 'look': 2, 'of': 1, 'your': 1, 'document.': 1, 'available': 1, 'in': 1, 'gallery': 1}\n"
     ]
    }
   ],
   "source": [
    "sentence = \"To change the overall look of your document. To change the look available in the gallery\"\n",
    "\n",
    "sentence = sentence.lower()   # Convert to lowercase to make it case-insensitive\n",
    "\n",
    "words = sentence.split()\n",
    "\n",
    "# Create an empty dictionary to store word count\n",
    "word_count = {}\n",
    "\n",
    "# Count occurrences of each word\n",
    "for word in words:\n",
    "    if word in word_count:\n",
    "        word_count[word] += 1\n",
    "    else:\n",
    "        word_count[word] = 1\n",
    "\n",
    "print(word_count)"
   ]
  },
  {
   "cell_type": "code",
   "execution_count": null,
   "id": "4c275d33",
   "metadata": {},
   "outputs": [],
   "source": [
    "2. Write a Python program to remove a newline in Python.\n",
    "   String = \"\\nBest \\nDeeptech \\nPython \\nTraining\\n\" "
   ]
  },
  {
   "cell_type": "code",
   "execution_count": 1,
   "id": "37743498",
   "metadata": {},
   "outputs": [
    {
     "name": "stdout",
     "output_type": "stream",
     "text": [
      " Best  Deeptech  Python  Training \n"
     ]
    }
   ],
   "source": [
    "String = \"\\nBest \\nDeeptech \\nPython \\nTraining\\n\"\n",
    "\n",
    "# Remove newline characters using replace()\n",
    "newString = String.replace(\"\\n\", \" \")\n",
    "\n",
    "# Display the result\n",
    "print(newString)"
   ]
  },
  {
   "cell_type": "code",
   "execution_count": null,
   "id": "276a0232",
   "metadata": {},
   "outputs": [],
   "source": [
    "3. Write a Python program to reverse words in a string.\n",
    "   String = “Deeptech Python Training” "
   ]
  },
  {
   "cell_type": "code",
   "execution_count": 5,
   "id": "95043977",
   "metadata": {},
   "outputs": [
    {
     "name": "stdout",
     "output_type": "stream",
     "text": [
      "Training Python Deeptech\n"
     ]
    }
   ],
   "source": [
    "String = \"Deeptech Python Training\"\n",
    "\n",
    "words = String.split()\n",
    "\n",
    "# Reverse the list of words\n",
    "reversed_words = words[::-1]\n",
    "\n",
    "# Join the reversed words back into a string\n",
    "reversed_string = ' '.join(reversed_words)\n",
    "\n",
    "# Display the result\n",
    "print(reversed_string)"
   ]
  },
  {
   "cell_type": "code",
   "execution_count": null,
   "id": "f4ff1614",
   "metadata": {},
   "outputs": [],
   "source": [
    "4. Write a Python program to count and display the vowels of a given text.\n",
    "   String=”Welcome to python Training”"
   ]
  },
  {
   "cell_type": "code",
   "execution_count": 6,
   "id": "fe49e9c4",
   "metadata": {},
   "outputs": [
    {
     "name": "stdout",
     "output_type": "stream",
     "text": [
      "Vowels found: ['e', 'o', 'e', 'o', 'o', 'a', 'i', 'i']\n",
      "Total number of vowels: 8\n"
     ]
    }
   ],
   "source": [
    "String = \"Welcome to python Training\"\n",
    "\n",
    "vowels = \"aeiou\"  # Define vowels\n",
    "\n",
    "# Initialize a count for vowels and a list to store the vowels found\n",
    "vowel_count = 0\n",
    "vowel_list = []\n",
    "\n",
    "# Convert the string to lowercase to handle case-insensitivity\n",
    "String = String.lower()\n",
    "\n",
    "# Iterate through each character in the string\n",
    "for char in String:\n",
    "    if char in vowels:\n",
    "        vowel_count += 1\n",
    "        vowel_list.append(char)\n",
    "\n",
    "# Display the count and the vowels found\n",
    "print(f\"Vowels found: {vowel_list}\")\n",
    "print(f\"Total number of vowels: {vowel_count}\")"
   ]
  },
  {
   "cell_type": "code",
   "execution_count": null,
   "id": "dc86eb29",
   "metadata": {},
   "outputs": [],
   "source": []
  }
 ],
 "metadata": {
  "kernelspec": {
   "display_name": "Python 3 (ipykernel)",
   "language": "python",
   "name": "python3"
  },
  "language_info": {
   "codemirror_mode": {
    "name": "ipython",
    "version": 3
   },
   "file_extension": ".py",
   "mimetype": "text/x-python",
   "name": "python",
   "nbconvert_exporter": "python",
   "pygments_lexer": "ipython3",
   "version": "3.9.12"
  }
 },
 "nbformat": 4,
 "nbformat_minor": 5
}
